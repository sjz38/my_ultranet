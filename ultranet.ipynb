{
 "cells": [
  {
   "cell_type": "code",
   "execution_count": null,
   "metadata": {},
   "outputs": [],
   "source": [
    "import pynq\n",
    "import numpy as np\n",
    "import cv2\n",
    "import time\n",
    "import yolo_utils_deploy\n",
    "\n",
    "\n",
    "# Headers I need \n",
    "# import xml.etree.ElementTree\n",
    "\n",
    "# Files I need\n",
    "# input image\n",
    "# xml file\n",
    "# bitstream\n",
    "# hwh\n"
   ]
  },
  {
   "cell_type": "code",
   "execution_count": null,
   "metadata": {},
   "outputs": [],
   "source": [
    "overlay = pynq.Overlay(\"./bitstreams/test.bit\") # Path to bitstream (ultranet.bit)\n",
    "xlnk = pynq.Xlnk()\n",
    "xlnk.xlnk_reset()\n",
    "xcel_ctrl = overlay.test_0\n",
    "\n",
    "IN_SIZE = (1,160,320,3)\n",
    "OUT_SIZE = (1,10,20,64)\n",
    "\n",
    "buf_in = xlnk.cma_array(shape=IN_SIZE, dtype=np.float32, cacheable=1) # Size is 614kB\n",
    "buf_out = xlnk.cma_array(shape=OUT_SIZE, dtype=np.float32, cacheable=1)"
   ]
  },
  {
   "cell_type": "code",
   "execution_count": null,
   "metadata": {},
   "outputs": [],
   "source": [
    "# Load input image\n",
    "def load_image(image_path):\n",
    "    image = cv2.imread(str(image_path))\n",
    "    image = cv2.resize(image, (width, height), interpolation=cv2.INTER_LINEAR)\n",
    "    image.resize(1, image.shape[0], image.shape[1], image.shape[2])\n",
    "    image = image.astype(float) / 255.0 # np.float32?\n",
    "    assert image.shape == (batch_size, height, width, 3)\n",
    "    return image\n",
    "\n",
    "image = load_image(\"./data/boat1_000001.jpg\") #Image path\n",
    "buf_in[:][:][:][:] = image\n",
    "print(buf_in[0][0][0][0])\n",
    "\n",
    "for i in range(SIZE[0]):\n",
    "    for j in range(SIZE[1]):\n",
    "        for k in range(SIZE[2]):\n",
    "            for m in range(SIZE[3]):\n",
    "                buf_out[i][j][k][m] = 0"
   ]
  },
  {
   "cell_type": "code",
   "execution_count": null,
   "metadata": {},
   "outputs": [],
   "source": [
    "# run kernel\n",
    "start = time.time()\n",
    "xcel_ctrl.write(0,0) # reset\n",
    "xcel_ctrl.write(16, xlnk.cma_get_phy_addr(buf_in.pointer)) # xcel argument: input image\n",
    "xcel_ctrl.write(24, xlnk.cma_get_phy_addr(buf_out.pointer)) # xcel argument: output data\n",
    "xcel_ctrl.write(0,1) # deassert reset\n",
    "while xcel_ctrl.read(0) & 0x04 != 0x04:\n",
    "    pass\n",
    "end_kernel = time.time()\n",
    "buf_in.close() # free contiguously allocated memory"
   ]
  },
  {
   "cell_type": "code",
   "execution_count": null,
   "metadata": {},
   "outputs": [],
   "source": [
    "# YOLO layer\n",
    "out_np = np.zeros(OUT_SIZE)\n",
    "out_np[:][:][:][:] = buf_out # copy output data to numpy array\n",
    "print(out_np[0][0][0][0])\n",
    "buf_out.close() # free contiguously allocated memory\n",
    "\n",
    "iou = run_yolo(out_np, \"./data/boat1_000001.xml\") # need path to xml file\n",
    "end = time.time()\n",
    "print(\"[INFO]: \" + str(iou))\n",
    "print(\"[INFO] Time spent on FPGA:\" + str(end_kernel - start) + \"s\")\n",
    "print(\"[INFO] Time spent on YOLO and BBox:\" + str(end - end_kernel) + \"s\")\n",
    "print(\"[INFO] Time spent total:\" + str(end - start) + \"s\")\n",
    "\n",
    "\n",
    "\n"
   ]
  }
 ],
 "metadata": {
  "language_info": {
   "name": "python"
  },
  "orig_nbformat": 4
 },
 "nbformat": 4,
 "nbformat_minor": 2
}
